{
 "cells": [
  {
   "cell_type": "code",
   "execution_count": 5,
   "id": "afb503b3-0d6d-4da5-9a44-9133610476a9",
   "metadata": {},
   "outputs": [
    {
     "name": "stdin",
     "output_type": "stream",
     "text": [
      "isikan nilai x : 9\n",
      "isikan nilai y : 8\n"
     ]
    },
    {
     "name": "stdout",
     "output_type": "stream",
     "text": [
      "Hasil Penjumlahan 9 + 8 = 17\n",
      "Hasil Pengurangan 9 - 8 = 1\n",
      "Hasil Perkalian 9 * 8 = 72\n",
      "Hasil Pembagian 9 / 8 = 1.125\n",
      "Hasil Modulus 9 % 8 = 1\n",
      "Hasil Pangkat 9 ** 8 = 43046721\n",
      "Hasil Bagi Bulat 9 // 8 = 1\n"
     ]
    }
   ],
   "source": [
    "x = int (input(\"isikan nilai x :\"))\n",
    "y = int (input(\"isikan nilai y :\"))\n",
    "\n",
    "hasilTambah = x + y\n",
    "hasilkurang = x - y\n",
    "hasilkali = x * y\n",
    "hasilBagi = x / y\n",
    "hasilmod = x % y \n",
    "hasilPangkat = x ** y \n",
    "hasilBagiBulat = x // y\n",
    "\n",
    "print(\"Hasil Penjumlahan\",x,\"+\",y,\"=\",hasilTambah)\n",
    "print(\"Hasil Pengurangan\",x,\"-\",y,\"=\",hasilkurang)\n",
    "print(\"Hasil Perkalian\",x,\"*\",y,\"=\",hasilkali)\n",
    "print(\"Hasil Pembagian\",x,\"/\",y,\"=\",hasilBagi)\n",
    "print(\"Hasil Modulus\",x,\"%\",y,\"=\",hasilmod)\n",
    "print(\"Hasil Pangkat\",x,\"**\",y,\"=\",hasilPangkat)\n",
    "print(\"Hasil Bagi Bulat\",x,\"//\",y,\"=\",hasilBagiBulat)\n",
    "\n",
    "\n",
    "\n",
    "\n",
    "\n"
   ]
  },
  {
   "cell_type": "code",
   "execution_count": 7,
   "id": "8b7dac6e-6eb5-4f5b-874f-dc24519a7d10",
   "metadata": {},
   "outputs": [
    {
     "name": "stdin",
     "output_type": "stream",
     "text": [
      "Isikan Nilai : 100\n"
     ]
    },
    {
     "name": "stdout",
     "output_type": "stream",
     "text": [
      "Nilai dari variabel <nilai> adalah : 100\n",
      "<nilai> setelah ditambahkan dengan 5 adalah : 105\n",
      "<nilai> setelah dikurangi dengan 5 adalah : 100\n",
      "<nilai> setelah dikalikan dengan 5 adalah : 500\n",
      "<nilai> setelah dibagi dengan 5 adalah : 100.0\n"
     ]
    }
   ],
   "source": [
    "nilai = int(input(\"Isikan Nilai :\"))\n",
    "print(\"Nilai dari variabel <nilai> adalah :\",nilai)\n",
    "nilai+=5\n",
    "print(\"<nilai> setelah ditambahkan dengan 5 adalah :\",nilai)\n",
    "nilai-=5\n",
    "print(\"<nilai> setelah dikurangi dengan 5 adalah :\",nilai)\n",
    "nilai*=5\n",
    "print(\"<nilai> setelah dikalikan dengan 5 adalah :\",nilai)\n",
    "nilai/=5\n",
    "print(\"<nilai> setelah dibagi dengan 5 adalah :\",nilai)\n"
   ]
  },
  {
   "cell_type": "code",
   "execution_count": 12,
   "id": "3fe6cf40-849b-411f-96a5-05cdf8676711",
   "metadata": {},
   "outputs": [
    {
     "name": "stdin",
     "output_type": "stream",
     "text": [
      "Isikan Nilai 1: 3\n",
      "Isikan Nilai 2: 5\n"
     ]
    },
    {
     "name": "stdout",
     "output_type": "stream",
     "text": [
      "Apakah 3 sama dengan 5 ? False\n",
      "Apakah 3 Tidak sama dengan 5 ? True\n",
      "Apakah 3 lebih besar 5 ? False\n",
      "Apakah 3 Lebih Kecil 5 ? True\n",
      "Apakah 3 Lebih Kecil Atau Sama Dengan 5 ? True\n",
      "Apakah 3 Lebih Besar Atau Sama dengan 5 ? False\n"
     ]
    }
   ],
   "source": [
    "val1 = int(input(\"Isikan Nilai 1:\"))\n",
    "val2 = int(input(\"Isikan Nilai 2:\"))\n",
    "\n",
    "print(\"Apakah\",val1,\"sama dengan\",val2,\"?\",val1==val2)\n",
    "print(\"Apakah\",val1,\"Tidak sama dengan\",val2,\"?\",val1!=val2)\n",
    "print(\"Apakah\",val1,\"lebih besar\",val2,\"?\",val1>val2)\n",
    "print(\"Apakah\",val1,\"Lebih Kecil\",val2,\"?\",val1<val2)\n",
    "print(\"Apakah\",val1,\"Lebih Kecil Atau Sama Dengan\",val2,\"?\",val1<=val2)\n",
    "print(\"Apakah\",val1,\"Lebih Besar Atau Sama dengan\",val2,\"?\",val1>=val2)"
   ]
  },
  {
   "cell_type": "code",
   "execution_count": 23,
   "id": "a2d6beb0-c56d-4025-b7eb-8d30d40727da",
   "metadata": {},
   "outputs": [
    {
     "name": "stdin",
     "output_type": "stream",
     "text": [
      "Isikan Bilangan 1 : 1\n",
      "Isikan Bilangan 2 : 2\n"
     ]
    },
    {
     "name": "stdout",
     "output_type": "stream",
     "text": [
      "Apakah <num1> %2 = 0 and <num2> , 4 False\n",
      "Apakah <num1> %2 = 0 atau <num2> , 4 False\n",
      "Apakah <num1> %2 = 0 atau <num2> , 4 True\n"
     ]
    }
   ],
   "source": [
    "num1 = int(input(\"Isikan Bilangan 1 :\"))\n",
    "num2 = int(input(\"Isikan Bilangan 2 :\"))\n",
    "\n",
    "print(\"Apakah <num1> %2 = 0 and <num2> , 4\",num1 %2==0 and num2 > 4)\n",
    "print(\"Apakah <num1> %2 = 0 atau <num2> , 4\",num1 %2==0 or num2 > 4)\n",
    "print(\"Apakah <num1> %2 = 0 atau <num2> , 4\",not(num1 %2==0 and num2 > 4))"
   ]
  },
  {
   "cell_type": "code",
   "execution_count": 26,
   "id": "5b14762d-c7a0-40d2-ba49-5829508c122b",
   "metadata": {},
   "outputs": [
    {
     "name": "stdout",
     "output_type": "stream",
     "text": [
      "Alamat Memori number1 : 140719937432280\n",
      "Alamat Memori number2 : 1803086441296\n",
      "Alamat Memori number3 : 1803086441296\n",
      "False\n",
      "True\n",
      "True\n"
     ]
    }
   ],
   "source": [
    "number1 = 10 \n",
    "number2  = \"10\"\n",
    "number3 = number2\n",
    "\n",
    "print(\"Alamat Memori number1 :\",id(number1)) \n",
    "print(\"Alamat Memori number2 :\",id(number2))\n",
    "print(\"Alamat Memori number3 :\",id(number3))\n",
    "\n",
    "print(number1 is number2)\n",
    "print(number2 is number3)\n",
    "print(number1 is not number2)"
   ]
  },
  {
   "cell_type": "code",
   "execution_count": 31,
   "id": "c04daba4-5fcb-415c-a900-2c5011bc58bb",
   "metadata": {},
   "outputs": [
    {
     "name": "stdout",
     "output_type": "stream",
     "text": [
      "True\n",
      "True\n",
      "False\n"
     ]
    }
   ],
   "source": [
    "nama = \"Prabowo\"\n",
    "print(\"o\" in nama)\n",
    "listPresiden = (\"Soekarno\",\"Soeharto\",\"Habibi\",\"Gus Dur\",\"Megawati\",\"sby\",\"Jokowi\",\"Prabowo\")\n",
    "print(nama in listPresiden)\n",
    "print(nama not in listPresiden)"
   ]
  },
  {
   "cell_type": "code",
   "execution_count": 39,
   "id": "8f34fea2-fe0b-4dc4-924b-52e922da4467",
   "metadata": {},
   "outputs": [
    {
     "name": "stdin",
     "output_type": "stream",
     "text": [
      "isikan bilangan 1: 10\n",
      "isikan bilangan 2: 12\n"
     ]
    },
    {
     "name": "stdout",
     "output_type": "stream",
     "text": [
      "0b1010\n",
      "0b1100\n",
      "===========&\n",
      "0b1000 = 8\n",
      "\n",
      "0b1010\n",
      "0b1100\n",
      "===========|\n",
      "0b1110 = 14\n",
      "\n",
      "0b1010\n",
      "0b1100\n",
      "===========^\n",
      "0b110 = 6\n",
      "\n",
      "0b1010 Geser Ke kiri Sebanyak 12\n",
      "Hasilnya Adalah: 0b1010000000000000 = 40960\n",
      "0b1010 Geser Ke Kanan Sebanyak 12\n",
      "Hasilnya Adalah: 0b0 = 0\n"
     ]
    }
   ],
   "source": [
    "number1 = int(input(\"isikan bilangan 1:\"))\n",
    "number2 = int(input(\"isikan bilangan 2:\"))\n",
    "\n",
    "print(bin(number1))\n",
    "print(bin(number2))\n",
    "print(\"===========&\")\n",
    "print(bin(number1 & number2),\"=\",number1 & number2)\n",
    "print()\n",
    "print(bin(number1))\n",
    "print(bin(number2))\n",
    "print(\"===========|\")\n",
    "print(bin(number1 | number2),\"=\",number1 | number2)\n",
    "print()\n",
    "print(bin(number1))\n",
    "print(bin(number2))\n",
    "print(\"===========^\")\n",
    "print(bin(number1 ^ number2),\"=\",number1 ^ number2)\n",
    "print()\n",
    "\n",
    "print(bin(number1), \"Geser Ke kiri Sebanyak\",number2)\n",
    "print(\"Hasilnya Adalah:\",bin(number1 << number2),\"=\",number1 << number2)\n",
    "\n",
    "print(bin(number1), \"Geser Ke Kanan Sebanyak\",number2)\n",
    "print(\"Hasilnya Adalah:\",bin(number1 >> number2),\"=\",number1 >> number2)"
   ]
  },
  {
   "cell_type": "code",
   "execution_count": 46,
   "id": "9155f7c3-4492-42da-88e8-62e0a066fb1e",
   "metadata": {},
   "outputs": [
    {
     "name": "stdin",
     "output_type": "stream",
     "text": [
      "Isikan Bilangan: 9\n"
     ]
    },
    {
     "name": "stdout",
     "output_type": "stream",
     "text": [
      "9 Adalah Bilangan Ganjil\n"
     ]
    }
   ],
   "source": [
    "#Bilangan Ganjil Atau Genap \n",
    "number = int(input(\"Isikan Bilangan:\"))\n",
    "oddEven = \"Genap\" if number % 2==0 else \"Ganjil\"\n",
    "print(number,\"Adalah Bilangan\",oddEven)"
   ]
  },
  {
   "cell_type": "code",
   "execution_count": 68,
   "id": "b8454122-98e4-43dc-a070-76637ec084c4",
   "metadata": {},
   "outputs": [
    {
     "name": "stdin",
     "output_type": "stream",
     "text": [
      "Isikan Jumlah pisang: 2\n",
      "Isikan jumlah Kolak: 2\n",
      "Isikan Jumlah Esbuah: 2\n"
     ]
    },
    {
     "name": "stdout",
     "output_type": "stream",
     "text": [
      "Pisang 2 * 13000 = 26000\n",
      "Kolak 2 * 7000 = 14000\n",
      "Esbuah 2 * 15000 = 30000\n",
      "=====================\n",
      "total Belanja : 70000\n",
      "Total Diskon : 5 % -> 3500.0\n",
      "Total Bayar : 34.95\n"
     ]
    }
   ],
   "source": [
    "pisang = int(input(\"Isikan Jumlah pisang:\"))\n",
    "kolak = int(input(\"Isikan jumlah Kolak:\"))\n",
    "esBuah = int(input(\"Isikan Jumlah Esbuah:\"))\n",
    "\n",
    "totalpisang = pisang * 13000\n",
    "totalkolak = kolak * 7000\n",
    "totalesBuah = esBuah * 15000\n",
    "print(\"Pisang\",pisang,\"* 13000\",\"=\",totalpisang)\n",
    "print(\"Kolak\",kolak,\"* 7000\",\"=\",totalkolak)\n",
    "print(\"Esbuah\",esBuah,\"* 15000\",\"=\",totalesBuah)\n",
    "print(\"=====================\")\n",
    "totalBelanja = totalpisang + totalkolak + totalesBuah\n",
    "print(\"total Belanja :\", totalBelanja)\n",
    "discount = 5 if totalBelanja > 25000 else 0\n",
    "print(\"Total Diskon :\",discount,\"% ->\",totalBelanja * (discount/100))\n",
    "print(\"Total Bayar :\",TotalBelanja - (totalBelanja * (discount/100))\n"
   ]
  },
  {
   "cell_type": "code",
   "execution_count": null,
   "id": "6ee35cee-dfd5-4f42-92b9-4ec6c06c60d3",
   "metadata": {},
   "outputs": [],
   "source": []
  }
 ],
 "metadata": {
  "kernelspec": {
   "display_name": "Python 3 (ipykernel)",
   "language": "python",
   "name": "python3"
  },
  "language_info": {
   "codemirror_mode": {
    "name": "ipython",
    "version": 3
   },
   "file_extension": ".py",
   "mimetype": "text/x-python",
   "name": "python",
   "nbconvert_exporter": "python",
   "pygments_lexer": "ipython3",
   "version": "3.12.7"
  }
 },
 "nbformat": 4,
 "nbformat_minor": 5
}
