{
 "cells": [
  {
   "cell_type": "markdown",
   "id": "4640a337-e539-4850-bb47-c30f2080b532",
   "metadata": {},
   "source": [
    "<center> <img src= \"https://upload.wikimedia.org/wikipedia/commons/c/c3/Python-logo-notext.svg\" width=\"300\"></center><br></b>\n",
    "<ol>\n",
    "    <li>M (Mark Down) -> M </li>\n",
    "    <li>Y (Code) -> Y </li>\n",
    "</ol>"
   ]
  },
  {
   "cell_type": "code",
   "execution_count": null,
   "id": "764df1f5-56ce-4803-86ca-5aaf45d1e172",
   "metadata": {},
   "outputs": [],
   "source": [
    "cara menambahkan<b> cell</b> terbagi menjadi 2:\n",
    "<ul> \n",
    "    <li> A -> Above menambah diatas cell aktif</li>\n",
    "    <li> B -> Below Menambah dibawah cell aktif</li>\n",
    "</ul>\n",
    "    <table>\n",
    "    <tr>\n",
    "     <td>perintah</td>\n",
    "     <td>keterangan</td>\n",
    "     </tr>\n",
    "     <tr>\n",
    "         <td>ctrl + center</td>\n",
    "         <td>running program dengan fokus di cell aktif</td>\n",
    "    </tr>\n",
    "<tr>\n",
    "    <td> shift + enter </td>\n",
    "         <td>running program dengan fokus di cell berikutnya</td>\n",
    "     </tr>\n",
    "</table>"
   ]
  },
  {
   "cell_type": "code",
   "execution_count": 104,
   "id": "23f35534-8bdd-49ed-8019-f2ad1614c70e",
   "metadata": {},
   "outputs": [
    {
     "name": "stdout",
     "output_type": "stream",
     "text": [
      "print is very easy\n",
      "4\n"
     ]
    },
    {
     "data": {
      "text/plain": [
       "'4'"
      ]
     },
     "execution_count": 104,
     "metadata": {},
     "output_type": "execute_result"
    }
   ],
   "source": [
    "#this is coment\n",
    "print(\"print is very easy\")\n",
    "data = \"4\"\n",
    "print(data)\n",
    "data"
   ]
  }
 ],
 "metadata": {
  "kernelspec": {
   "display_name": "Python 3 (ipykernel)",
   "language": "python",
   "name": "python3"
  },
  "language_info": {
   "codemirror_mode": {
    "name": "ipython",
    "version": 3
   },
   "file_extension": ".py",
   "mimetype": "text/x-python",
   "name": "python",
   "nbconvert_exporter": "python",
   "pygments_lexer": "ipython3",
   "version": "3.12.7"
  }
 },
 "nbformat": 4,
 "nbformat_minor": 5
}
