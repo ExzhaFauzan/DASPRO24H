{
 "cells": [
  {
   "cell_type": "markdown",
   "id": "5854a90d-e435-44ae-9e31-3bc520e011b1",
   "metadata": {
    "id": "5854a90d-e435-44ae-9e31-3bc520e011b1"
   },
   "source": [
    "Buatlah program yang meminta pengguna memasukkan usia seseorang, lalu tentukan apakah dia <br>\n",
    "anak-anak (0-12 tahun), remaja (13-17 tahun), dewasa (18-59 tahun), atau lansia (60 tahun ke atas)."
   ]
  },
  {
   "cell_type": "code",
   "execution_count": 2,
   "id": "75a2fdcd-1ef1-45e4-9d79-c6a7cb708a18",
   "metadata": {
    "id": "75a2fdcd-1ef1-45e4-9d79-c6a7cb708a18"
   },
   "outputs": [
    {
     "name": "stdin",
     "output_type": "stream",
     "text": [
      "Masukkan usia:  18\n"
     ]
    },
    {
     "name": "stdout",
     "output_type": "stream",
     "text": [
      "Kategori usia: Remaja\n"
     ]
    }
   ],
   "source": [
    "usia = int(input(\"Masukkan usia: \"))\n",
    "\n",
    "\n",
    "if 0 <= usia <= 12:\n",
    "    kategori = \"Anak-anak\"\n",
    "elif 13 <= usia <= 18:\n",
    "    kategori = \"Remaja\"\n",
    "elif 18 <= usia <= 59:\n",
    "    kategori = \"Dewasa\"\n",
    "elif usia >= 60:\n",
    "    kategori = \"Lansia\"\n",
    "else:\n",
    "    kategori = \"Usia tidak valid\"\n",
    "\n",
    "\n",
    "print(f\"Kategori usia: {kategori}\")\n"
   ]
  },
  {
   "cell_type": "markdown",
   "id": "68c95835-e4ad-4bd0-89ca-168200893cf7",
   "metadata": {
    "id": "68c95835-e4ad-4bd0-89ca-168200893cf7"
   },
   "source": [
    "Sebuah taman hiburan memiliki aturan harga tiket berdasarkan usia:\n",
    "<ol>\n",
    "<li>Anak-anak (0-12 tahun): Rp 10.000</li>\n",
    "<li>Remaja (13-17 tahun): Rp 15.000</li>\n",
    "<li>Dewasa (18-59 tahun): Rp 25.000</li>\n",
    "<li>Lansia (60 tahun ke atas): Gratis</li>\n",
    "</ol>\n",
    "Buat program untuk menentukan harga tiket berdasarkan usia yang dimasukkan pengguna dan total harga yang harus dibayar, jika terdapat 3 input seperti berikut ini"
   ]
  },
  {
   "cell_type": "code",
   "execution_count": 1,
   "id": "66ee699f-8355-48e0-939a-dcc73ba4425b",
   "metadata": {
    "id": "66ee699f-8355-48e0-939a-dcc73ba4425b"
   },
   "outputs": [
    {
     "name": "stdin",
     "output_type": "stream",
     "text": [
      "Isikan Umur Tiket 1:  20\n",
      "Isikan Umur Tiket 2:  10\n",
      "Isikan Umur Tiket 3:  13\n",
      "Isikan Umur Tiket 4:  67\n",
      "Isikan Umur Tiket 5:  18\n"
     ]
    },
    {
     "name": "stdout",
     "output_type": "stream",
     "text": [
      "\n",
      "Rincian jumlah kategori usia:\n",
      "Anak-anak: 1 orang\n",
      "Remaja: 1 orang\n",
      "Dewasa: 2 orang\n",
      "Lansia: 1 orang\n",
      "\n",
      "Total harga yang harus dibayar: Rp 75000\n"
     ]
    }
   ],
   "source": [
    "tiket1 = int(input(\"Isikan Umur Tiket 1: \"))\n",
    "tiket2 = int(input(\"Isikan Umur Tiket 2: \"))\n",
    "tiket3 = int(input(\"Isikan Umur Tiket 3: \"))\n",
    "tiket4 = int(input(\"Isikan Umur Tiket 4: \"))\n",
    "tiket5 = int(input(\"Isikan Umur Tiket 5: \"))\n",
    "\n",
    "total_harga = 0\n",
    "jumlah_anak = 0\n",
    "jumlah_remaja = 0\n",
    "jumlah_dewasa = 0\n",
    "jumlah_lansia = 0\n",
    "\n",
    "tiket_list = [tiket1, tiket2, tiket3, tiket4, tiket5]\n",
    "\n",
    "for usia in tiket_list:\n",
    "    if 0 <= usia <= 12:\n",
    "        total_harga += 10000\n",
    "        jumlah_anak += 1\n",
    "    elif 13 <= usia <= 17:\n",
    "        total_harga += 15000\n",
    "        jumlah_remaja += 1\n",
    "    elif 18 <= usia <= 59:\n",
    "        total_harga += 25000\n",
    "        jumlah_dewasa += 1\n",
    "    elif usia >= 60:\n",
    "        total_harga += 0\n",
    "        jumlah_lansia += 1\n",
    "    else:\n",
    "        print(f\"Usia {usia} tidak valid.\")\n",
    "\n",
    "\n",
    "print(\"\\nRincian jumlah kategori usia:\")\n",
    "print(f\"Anak-anak: {jumlah_anak} orang\")\n",
    "print(f\"Remaja: {jumlah_remaja} orang\")\n",
    "print(f\"Dewasa: {jumlah_dewasa} orang\")\n",
    "print(f\"Lansia: {jumlah_lansia} orang\")\n",
    "print(f\"\\nTotal harga yang harus dibayar: Rp {total_harga}\")\n"
   ]
  },
  {
   "cell_type": "markdown",
   "id": "82eac646-d930-42f5-a253-03f84c32f943",
   "metadata": {
    "id": "82eac646-d930-42f5-a253-03f84c32f943"
   },
   "source": [
    "Sebuah restoran memiliki diskon khusus:\n",
    "Anak-anak (0-12 tahun) diskon 50%\n",
    "Lansia (60 tahun ke atas) diskon 30%\n",
    "Selain itu, tidak ada diskon\n",
    "Buat program untuk menghitung harga yang harus dibayar setelah diskon diberikan."
   ]
  },
  {
   "cell_type": "code",
   "execution_count": 4,
   "id": "feb31fca-fce6-4e5f-a25f-8752e7a0033b",
   "metadata": {
    "id": "feb31fca-fce6-4e5f-a25f-8752e7a0033b"
   },
   "outputs": [
    {
     "name": "stdin",
     "output_type": "stream",
     "text": [
      "Isikan Umur Orang 1:  61\n",
      "Isikan Umur Orang 2:  11\n",
      "Isikan Umur Orang 3:  18\n",
      "Isikan Umur Orang 4:  11\n",
      "Isikan Umur Orang 5:  67\n"
     ]
    },
    {
     "name": "stdout",
     "output_type": "stream",
     "text": [
      "\n",
      "Rincian jumlah kategori usia:\n",
      "Anak-anak: 2 orang\n",
      "Remaja: 0 orang\n",
      "Dewasa: 1 orang\n",
      "Lansia: 2 orang\n",
      "\n",
      "Total harga sebelum diskon: Rp 95000\n",
      "Total diskon yang diberikan: Rp 25000.0\n",
      "Total harga setelah diskon: Rp 70000.0\n"
     ]
    }
   ],
   "source": [
    "usia1 = int(input(\"Isikan Umur Orang 1: \"))\n",
    "usia2 = int(input(\"Isikan Umur Orang 2: \"))\n",
    "usia3 = int(input(\"Isikan Umur Orang 3: \"))\n",
    "usia4 = int(input(\"Isikan Umur Orang 4: \"))\n",
    "usia5 = int(input(\"Isikan Umur Orang 5: \"))\n",
    "\n",
    "total_harga = 0\n",
    "total_diskon = 0\n",
    "jumlah_anak = 0\n",
    "jumlah_remaja = 0\n",
    "jumlah_dewasa = 0\n",
    "jumlah_lansia = 0\n",
    "harga_setelah_diskon = 0\n",
    "\n",
    "usia_list = [usia1, usia2, usia3, usia4, usia5]\n",
    "\n",
    "for usia in usia_list:\n",
    "    if 0 <= usia <= 12:\n",
    "        harga = 10000\n",
    "        diskon = harga * 0.5  \n",
    "        jumlah_anak += 1\n",
    "    elif 13 <= usia <= 17:\n",
    "        harga = 15000\n",
    "        diskon = 0  \n",
    "        jumlah_remaja += 1\n",
    "    elif 18 <= usia <= 59:\n",
    "        harga = 25000\n",
    "        diskon = 0  \n",
    "        jumlah_dewasa += 1\n",
    "    elif usia >= 60:\n",
    "        harga = 25000  \n",
    "        diskon = harga * 0.3\n",
    "        jumlah_lansia += 1\n",
    "    else:\n",
    "        print(f\"Usia {usia} tidak valid.\")\n",
    "        continue\n",
    "    \n",
    "    total_diskon += diskon\n",
    "    harga_setelah_diskon += (harga - diskon)\n",
    "    total_harga += harga\n",
    "\n",
    "print(\"\\nRincian jumlah kategori usia:\")\n",
    "print(f\"Anak-anak: {jumlah_anak} orang\")\n",
    "print(f\"Remaja: {jumlah_remaja} orang\")\n",
    "print(f\"Dewasa: {jumlah_dewasa} orang\")\n",
    "print(f\"Lansia: {jumlah_lansia} orang\")\n",
    "print(f\"\\nTotal harga sebelum diskon: Rp {total_harga}\")\n",
    "print(f\"Total diskon yang diberikan: Rp {total_diskon}\")\n",
    "print(f\"Total harga setelah diskon: Rp {harga_setelah_diskon}\")\n"
   ]
  },
  {
   "cell_type": "markdown",
   "id": "aee8bab3-9bf1-4732-97e1-7abb32ce7184",
   "metadata": {
    "id": "aee8bab3-9bf1-4732-97e1-7abb32ce7184"
   },
   "source": [
    "Program beasiswa:\n",
    "<ol>\n",
    "<li>Jika nilai rapor ≥ 90 dan penghasilan orang tua < Rp 5.000.000 → Beasiswa Penuh</li>\n",
    "<li>Jika nilai rapor ≥ 85 dan penghasilan orang tua < Rp 8.000.000 → Beasiswa 50%</li>\n",
    "<li>Jika tidak memenuhi syarat di atas → Tidak mendapatkan beasiswa</li>\n",
    "</ol>"
   ]
  },
  {
   "cell_type": "code",
   "execution_count": 8,
   "id": "55a9ec4f-531b-4326-bca3-e0d19b4be47d",
   "metadata": {
    "id": "55a9ec4f-531b-4326-bca3-e0d19b4be47d"
   },
   "outputs": [
    {
     "name": "stdin",
     "output_type": "stream",
     "text": [
      "Masukkan nilai rapor:  91\n",
      "Masukkan penghasilan orang tua:  4500000\n"
     ]
    },
    {
     "name": "stdout",
     "output_type": "stream",
     "text": [
      "Selamat!! Anda Mendapatkan Beasiswa Penuh\n"
     ]
    }
   ],
   "source": [
    "nilai_rapor = int(input(\"Masukkan nilai rapor: \"))\n",
    "penghasilan_ortu = int(input(\"Masukkan penghasilan orang tua: \"))\n",
    "\n",
    "if nilai_rapor >= 90 and penghasilan_ortu < 5000000:\n",
    "    print(\"Selamat!! Anda Mendapatkan Beasiswa Penuh\")\n",
    "elif nilai_rapor >= 85 and penghasilan_ortu < 8000000:\n",
    "    print(\"Anda Dapat Potongan Beasiswa Sebesar 50%\")\n",
    "else:\n",
    "    print(\"Maaf Ands Tidak mendapatkan beasiswa\")\n"
   ]
  },
  {
   "cell_type": "markdown",
   "id": "57ea9062-e1af-4650-8eab-a47a01a9d04f",
   "metadata": {
    "id": "57ea9062-e1af-4650-8eab-a47a01a9d04f"
   },
   "source": [
    "Suatu aplikasi streaming memiliki batasan usia:\n",
    "<ol>\n",
    "<li>Film Semua Umur: Bisa ditonton oleh siapa saja</li>\n",
    "<li>Film Remaja: Hanya untuk usia ≥ 13 tahun</li>\n",
    "<li>Film Dewasa: Hanya untuk usia ≥ 18 tahun</li>\n",
    "</ol>\n",
    "Buat program yang meminta input usia dan kategori film, lalu tentukan apakah seseorang boleh menonton film tersebut atau tidak."
   ]
  },
  {
   "cell_type": "code",
   "execution_count": 15,
   "id": "2c00f464-3390-4c94-9ec2-4b63c55b871b",
   "metadata": {
    "id": "2c00f464-3390-4c94-9ec2-4b63c55b871b"
   },
   "outputs": [
    {
     "name": "stdin",
     "output_type": "stream",
     "text": [
      "Masukkan usia Anda:  18\n",
      "Masukkan kategori film (Semua Umur/Remaja/Dewasa):  Dewasa\n"
     ]
    },
    {
     "name": "stdout",
     "output_type": "stream",
     "text": [
      "Anda boleh menonton film ini.\n"
     ]
    }
   ],
   "source": [
    "usia = int(input(\"Masukkan usia Anda: \"))\n",
    "kategori_film = input(\"Masukkan kategori film (Semua Umur/Remaja/Dewasa): \")\n",
    "\n",
    "if kategori_film == \"Semua Umur\":\n",
    "    print(\"Anda boleh menonton film ini.\")\n",
    "elif kategori_film == \"Remaja\" and usia >= 13 and usia <= 17:\n",
    "    print(\"Anda boleh menonton film ini.\")\n",
    "elif kategori_film == \"Dewasa\" and usia >= 18:\n",
    "    print(\"Anda boleh menonton film ini.\")\n",
    "else:\n",
    "    print(\"Anda tidak boleh menonton film ini.\")\n"
   ]
  },
  {
   "cell_type": "markdown",
   "id": "7b87c04c-85f0-4dc1-a14a-f67d8b2c4e6a",
   "metadata": {
    "id": "7b87c04c-85f0-4dc1-a14a-f67d8b2c4e6a"
   },
   "source": [
    "Sebuah toko memberikan diskon berdasarkan jumlah pembelian:\n",
    "<ol>\n",
    "<li>Jika total belanja ≥ Rp 500.000 → Diskon 20%</li>\n",
    "<li>Jika total belanja ≥ Rp 250.000 → Diskon 10%</li>\n",
    "<li>Jika total belanja < Rp 250.000 → Tidak ada diskon</li>\n",
    "</ol>\n",
    "Hitung harga akhir setelah diskon."
   ]
  },
  {
   "cell_type": "code",
   "execution_count": 18,
   "id": "966923a0-c87b-4559-8fc1-3090d448ad4a",
   "metadata": {
    "id": "966923a0-c87b-4559-8fc1-3090d448ad4a"
   },
   "outputs": [
    {
     "name": "stdin",
     "output_type": "stream",
     "text": [
      "Masukkan total belanja:  260000\n"
     ]
    },
    {
     "name": "stdout",
     "output_type": "stream",
     "text": [
      "Total belanja: Rp 260000\n",
      "Diskon: Rp 26000.0\n",
      "Harga akhir setelah diskon: Rp 234000.0\n"
     ]
    }
   ],
   "source": [
    "total_belanja = int(input(\"Masukkan total belanja: \"))\n",
    "\n",
    "if total_belanja >= 500000:\n",
    "    diskon = total_belanja * 0.20\n",
    "elif total_belanja >= 250000:\n",
    "    diskon = total_belanja * 0.10\n",
    "else:\n",
    "    diskon = 0\n",
    "\n",
    "harga_akhir = total_belanja - diskon\n",
    "\n",
    "print(f\"Total belanja: Rp {total_belanja}\")\n",
    "print(f\"Diskon: Rp {diskon}\")\n",
    "print(f\"Harga akhir setelah diskon: Rp {harga_akhir}\")\n"
   ]
  },
  {
   "cell_type": "markdown",
   "id": "88e22629-48cc-4917-86e7-2bf4df863182",
   "metadata": {
    "id": "88e22629-48cc-4917-86e7-2bf4df863182"
   },
   "source": [
    "Program parkir:\n",
    "<ol>\n",
    "<li>Mobil: Rp 5.000 per jam</li>\n",
    "<li>Motor: Rp 2.000 per jam</li>\n",
    "<li>Jika parkir lebih dari 5 jam, ada biaya tambahan Rp 10.000</li>\n",
    "</ol>\n",
    "Hitung total biaya parkir berdasarkan jenis kendaraan dan durasi parkir."
   ]
  },
  {
   "cell_type": "code",
   "execution_count": 19,
   "id": "b8f7b918-70a1-4a88-945f-406c4aafbec7",
   "metadata": {
    "id": "b8f7b918-70a1-4a88-945f-406c4aafbec7"
   },
   "outputs": [
    {
     "name": "stdin",
     "output_type": "stream",
     "text": [
      "Masukkan jenis kendaraan (Mobil/Motor):  Mobil\n",
      "Masukkan durasi parkir (dalam jam):  6\n"
     ]
    },
    {
     "name": "stdout",
     "output_type": "stream",
     "text": [
      "Total biaya parkir: Rp 40000\n"
     ]
    }
   ],
   "source": [
    "jenis_kendaraan = input(\"Masukkan jenis kendaraan (Mobil/Motor): \")\n",
    "durasi_parkir = int(input(\"Masukkan durasi parkir (dalam jam): \"))\n",
    "\n",
    "if jenis_kendaraan == \"Mobil\":\n",
    "    biaya_per_jam = 5000\n",
    "elif jenis_kendaraan == \"Motor\":\n",
    "    biaya_per_jam = 2000\n",
    "else:\n",
    "    print(\"Jenis kendaraan tidak valid.\")\n",
    "    exit()\n",
    "\n",
    "total_biaya = biaya_per_jam * durasi_parkir\n",
    "\n",
    "if durasi_parkir > 5:\n",
    "    total_biaya += 10000\n",
    "\n",
    "print(f\"Total biaya parkir: Rp {total_biaya}\")\n",
    "\n"
   ]
  },
  {
   "cell_type": "markdown",
   "id": "2db1d34c-3f80-4f8c-aaf2-910c38c05414",
   "metadata": {
    "id": "2db1d34c-3f80-4f8c-aaf2-910c38c05414"
   },
   "source": [
    "Aplikasi transportasi online memiliki tarif sebagai berikut:\n",
    "<ol>\n",
    "<li>Jika jarak ≤ 5 km → Rp 5.000/km</li>\n",
    "<li>Jika jarak 6-10 km → Rp 4.000/km</li>\n",
    "<li>Jika jarak > 10 km → Rp 3.000/km</li>\n",
    "</ol>\n",
    "Hitung tarif perjalanan berdasarkan jarak yang dimasukkan pengguna.\n"
   ]
  },
  {
   "cell_type": "code",
   "execution_count": 20,
   "id": "5a5b719e-76f6-4f45-a8e4-07853113ce9e",
   "metadata": {
    "id": "5a5b719e-76f6-4f45-a8e4-07853113ce9e"
   },
   "outputs": [
    {
     "name": "stdin",
     "output_type": "stream",
     "text": [
      "Masukkan jarak perjalanan :  7\n"
     ]
    },
    {
     "name": "stdout",
     "output_type": "stream",
     "text": [
      "Tarif perjalanan untuk jarak 7 km: Rp 28000\n"
     ]
    }
   ],
   "source": [
    "jarak = int(input(\"Masukkan jarak perjalanan : \"))\n",
    "\n",
    "if jarak <= 5:\n",
    "    tarif_per_km = 5000\n",
    "elif 6 <= jarak <= 10:\n",
    "    tarif_per_km = 4000\n",
    "else:\n",
    "    tarif_per_km = 3000\n",
    "\n",
    "total_tarif = tarif_per_km * jarak\n",
    "\n",
    "print(f\"Tarif perjalanan untuk jarak {jarak} km: Rp {total_tarif}\")\n"
   ]
  },
  {
   "cell_type": "markdown",
   "id": "d1cf7b61-e309-40ec-b1fd-4bc56550a10d",
   "metadata": {
    "id": "d1cf7b61-e309-40ec-b1fd-4bc56550a10d"
   },
   "source": [
    "Buatlah sebuah sistem penerimaan calon programmer yang akan menerima dua nilai ( nilai coding dan nilai interview). Untuk penilaian test coding skala penilaian yang diberikan dimulai dari 0 hingga 100 dengan sistem penilaian:\n",
    "<ol>\n",
    "<li>ketika seseorang mendapatkan nilai lebih dari 80 maka peserta tersebut akan mendapatkan hasil tes LOLOS</li>\n",
    "<li>ketika sesorang mendapatkan nilai diantara 60 hingga 80 maka peserta tersebut mendapatkan hasil tes DIPERTIMBANGKAN</li>\n",
    "<li>ketika seseorang mendapatkan nilai dibawah 60 maka peserta tersebut mendapatkan hasil tes GAGAL.</li>\n",
    "</ol>\n",
    "\n",
    "Sedangkan untuk penilaian interview adalah\n",
    "<ol>\n",
    "<li>ketika nilai yang diberikan kepada seseorang tersebut adalah \"A\" atau \"B\" maka peserta tersebut dianggap LOLOS interview</li>\n",
    "\n",
    "<li>selain kedua nilai tersebut maka peserta dianggap GAGAL tes interview.</li>\n",
    "</ol>\n",
    "\n",
    "Ketika calon programmer mendapatkan nilai coding LOLOS atau DIPERTIMBANGKAN dan juga LOLOS test interview maka tampilkanlah pesan \"Selamat Kamu Berhasil Menjadi Calon Programmer\". Jika tidak maka tampilkanlah pesan \"Maaf Kamu Belum Berhasil Menjadi Calon Programmer\""
   ]
  },
  {
   "cell_type": "code",
   "execution_count": 26,
   "id": "7aeb0f89-e957-4c0d-a29c-139fc269e1c0",
   "metadata": {
    "id": "7aeb0f89-e957-4c0d-a29c-139fc269e1c0"
   },
   "outputs": [
    {
     "name": "stdin",
     "output_type": "stream",
     "text": [
      "Masukkan nilai coding :  80\n",
      "Masukkan nilai interview :  A\n"
     ]
    },
    {
     "name": "stdout",
     "output_type": "stream",
     "text": [
      "Hasil penilaian coding: DIPERTIMBANGKAN\n",
      "Hasil penilaian interview: LOLOS\n",
      "Selamat Kamu Berhasil Menjadi Calon Programmer\n"
     ]
    }
   ],
   "source": [
    "nilai_coding = int(input(\"Masukkan nilai coding : \"))\n",
    "nilai_interview = input(\"Masukkan nilai interview : \")\n",
    "\n",
    "if nilai_coding > 80:\n",
    "    hasil_coding = \"LOLOS\"\n",
    "elif 60 <= nilai_coding <= 80:\n",
    "    hasil_coding = \"DIPERTIMBANGKAN\"\n",
    "else:\n",
    "    hasil_coding = \"GAGAL\"\n",
    "\n",
    "if nilai_interview == \"A\":\n",
    "    hasil_interview = \"LOLOS\"\n",
    "elif nilai_interview == \"B\":\n",
    "    hasil_interview = \"LOLOS\"\n",
    "else:\n",
    "    hasil_interview = \"GAGAL\"\n",
    "\n",
    "print(f\"Hasil penilaian coding: {hasil_coding}\")\n",
    "print(f\"Hasil penilaian interview: {hasil_interview}\")\n",
    "\n",
    "if (hasil_coding == \"LOLOS\" or hasil_coding == \"DIPERTIMBANGKAN\") and hasil_interview == \"LOLOS\":\n",
    "    print(\"Selamat Kamu Berhasil Menjadi Calon Programmer\")\n",
    "else:\n",
    "    print(\"Maaf Kamu Belum Berhasil Menjadi Calon Programmer\")\n"
   ]
  },
  {
   "cell_type": "markdown",
   "id": "364647af-075b-4bc0-8c83-4c816415ff74",
   "metadata": {
    "id": "364647af-075b-4bc0-8c83-4c816415ff74"
   },
   "source": [
    "Sebuah klub sepak bola “PERSEGI FC” mempunyai aturan dalam memberikan nomor punggung bagi para pemainnya. Para pemain diperbolehkan mempunyai posisi lebih dari 1. Berikut adalah beberapa\n",
    "aturannya:\n",
    "<ol>\n",
    "<li>Untuk nomor punggung genap, digunakan untuk posisi “target attacker”</li>\n",
    "<li>Untuk nomor punggung genap antara 50 – 100, digunakan untuk pemain yang “berhak dipilih menjadi capten team”</li>\n",
    "<li>Untuk nomor punggung ganjil, digunakan untuk posisi “defender”</li>\n",
    "<li>Untuk nomor punggung ganjil lebih dari 90, digunakan untuk posisi “Playmaker”</li>\n",
    "<li>Untuk nomor punggung ganjil kelipatan dari 3 dan 5, digunakan untuk posisi “keeper”</li>\n",
    "</ol>\n",
    "Buatlah program untuk melakukan pengecekan sebuah nomor punggung dapat berfungsi sebagai posisi apa saja."
   ]
  },
  {
   "cell_type": "code",
   "execution_count": 27,
   "id": "2d1d5589-126b-44e3-9d9e-1bed865ff65c",
   "metadata": {
    "id": "2d1d5589-126b-44e3-9d9e-1bed865ff65c"
   },
   "outputs": [
    {
     "name": "stdin",
     "output_type": "stream",
     "text": [
      "Masukkan nomor punggung pemain:  90\n"
     ]
    },
    {
     "name": "stdout",
     "output_type": "stream",
     "text": [
      "Posisi: Target Attacker\n",
      "Pemain ini bisa menjadi captain team\n"
     ]
    }
   ],
   "source": [
    "nomor = int(input(\"Masukkan nomor punggung pemain: \"))\n",
    "\n",
    "if nomor - (nomor // 2) * 2 == 0:\n",
    "    print(\"Posisi: Target Attacker\")\n",
    "    if nomor >= 50 and nomor <= 100:\n",
    "        print(\"Pemain ini bisa menjadi captain team\")\n",
    "else:\n",
    "    print(\"Posisi: Defender\")\n",
    "    if nomor > 90:\n",
    "        print(\"Pemain ini bisa menjadi Playmaker\")\n",
    "    if (nomor // 3) * 3 == nomor and (nomor // 5) * 5 == nomor:\n",
    "        print(\"Pemain ini bisa menjadi Keeper\")\n"
   ]
  }
 ],
 "metadata": {
  "colab": {
   "provenance": []
  },
  "kernelspec": {
   "display_name": "Python 3 (ipykernel)",
   "language": "python",
   "name": "python3"
  },
  "language_info": {
   "codemirror_mode": {
    "name": "ipython",
    "version": 3
   },
   "file_extension": ".py",
   "mimetype": "text/x-python",
   "name": "python",
   "nbconvert_exporter": "python",
   "pygments_lexer": "ipython3",
   "version": "3.12.7"
  }
 },
 "nbformat": 4,
 "nbformat_minor": 5
}
