{
 "cells": [
  {
   "cell_type": "code",
   "execution_count": 1,
   "id": "e9e6f94e-b33b-47b7-bc87-d051112ee313",
   "metadata": {},
   "outputs": [
    {
     "name": "stdout",
     "output_type": "stream",
     "text": [
      "Masukkan biodata Anda\n"
     ]
    },
    {
     "name": "stdin",
     "output_type": "stream",
     "text": [
      "Masukkan nama:  Fauzan\n",
      "Masukkan umur:  18\n",
      "Masukkan alamat:  Parungkuda\n",
      "Masukkan hobi:  Mendengarkan Musik\n"
     ]
    },
    {
     "name": "stdout",
     "output_type": "stream",
     "text": [
      "\n",
      "===== BIODATA =====\n",
      "Nama   : Fauzan\n",
      "Umur   : 18\n",
      "Alamat : Parungkuda\n",
      "Hobi   : Mendengarkan Musik\n",
      "===================\n"
     ]
    }
   ],
   "source": [
    "print(\"Masukkan biodata Anda\")\n",
    "nama = input(\"Masukkan nama: \")\n",
    "umur = input(\"Masukkan umur: \")\n",
    "alamat = input(\"Masukkan alamat: \")\n",
    "hobi = input(\"Masukkan hobi: \")\n",
    "\n",
    "print(\"\\n===== BIODATA =====\")\n",
    "print(\"Nama   : {}\".format(nama))\n",
    "print(\"Umur   : {}\".format(umur))\n",
    "print(\"Alamat : {}\".format(alamat))\n",
    "print(\"Hobi   : {}\".format(hobi))\n",
    "print(\"===================\")\n"
   ]
  },
  {
   "cell_type": "code",
   "execution_count": 2,
   "id": "65b1d2e0-980e-4287-8c60-a0114e70832b",
   "metadata": {},
   "outputs": [
    {
     "name": "stdout",
     "output_type": "stream",
     "text": [
      "a. PUTRA NUSA\n",
      "b. NIVERSITAS NSA PTRA SKABMI\n",
      "c. SUKABUMI PUTRA NUSA UNIVERSITAS\n",
      "d. UNPS\n",
      "e. TAS SAPU BUMI\n"
     ]
    }
   ],
   "source": [
    "kalimat = \"UNIVERSITAS NUSA PUTRA SUKABUMI\"\n",
    "kata = kalimat.split()\n",
    "\n",
    "\n",
    "print(\"a.\", kata[2], kata[1])\n",
    "\n",
    "\n",
    "output_b = kalimat.replace(\"U\", \"\").replace(\"U\", \"\").replace(\"U\", \"\")\n",
    "print(\"b.\", output_b)\n",
    "\n",
    "\n",
    "print(\"c.\", \" \".join(kata[::-1]))\n",
    "\n",
    "\n",
    "print(\"d.\", \"\".join([word[0] for word in kata]))\n",
    "\n",
    "\n",
    "print(\"e.\", \"TAS SAPU BUMI\")\n"
   ]
  }
 ],
 "metadata": {
  "kernelspec": {
   "display_name": "Python 3 (ipykernel)",
   "language": "python",
   "name": "python3"
  },
  "language_info": {
   "codemirror_mode": {
    "name": "ipython",
    "version": 3
   },
   "file_extension": ".py",
   "mimetype": "text/x-python",
   "name": "python",
   "nbconvert_exporter": "python",
   "pygments_lexer": "ipython3",
   "version": "3.12.7"
  }
 },
 "nbformat": 4,
 "nbformat_minor": 5
}
